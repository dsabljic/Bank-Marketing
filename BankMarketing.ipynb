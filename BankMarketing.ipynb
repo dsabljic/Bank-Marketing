{
 "cells": [
  {
   "cell_type": "code",
   "execution_count": null,
   "id": "1a6670fb-30b6-484b-b29e-a2999708f1c5",
   "metadata": {},
   "outputs": [],
   "source": [
    "from ucimlrepo import fetch_ucirepo \n",
    "  \n",
    "# fetch dataset \n",
    "bank_marketing = fetch_ucirepo(id=222) \n",
    "  \n",
    "# data (as pandas dataframes) \n",
    "X = bank_marketing.data.features \n",
    "y = bank_marketing.data.targets \n",
    "\n",
    "# metadata \n",
    "print(bank_marketing.metadata) \n",
    "\n",
    "# variable information \n",
    "print(bank_marketing.variables) "
   ]
  },
  {
   "cell_type": "code",
   "execution_count": null,
   "id": "c4a64187-b8ce-4f97-a778-2de769816f23",
   "metadata": {},
   "outputs": [],
   "source": [
    "type(bank_marketing)"
   ]
  },
  {
   "cell_type": "code",
   "execution_count": null,
   "id": "ca9f61e9-bc51-488d-aa38-415a514f1798",
   "metadata": {},
   "outputs": [],
   "source": [
    "bank_marketing.head()"
   ]
  },
  {
   "cell_type": "code",
   "execution_count": null,
   "id": "b483f896-5b85-4be6-8475-b40a57d7611f",
   "metadata": {},
   "outputs": [],
   "source": [
    "bank_marketing.shape"
   ]
  },
  {
   "cell_type": "code",
   "execution_count": null,
   "id": "88717023-83fe-4cc2-97c6-d76b08d900cc",
   "metadata": {},
   "outputs": [],
   "source": []
  }
 ],
 "metadata": {
  "kernelspec": {
   "display_name": "Python 3 (ipykernel)",
   "language": "python",
   "name": "python3"
  },
  "language_info": {
   "codemirror_mode": {
    "name": "ipython",
    "version": 3
   },
   "file_extension": ".py",
   "mimetype": "text/x-python",
   "name": "python",
   "nbconvert_exporter": "python",
   "pygments_lexer": "ipython3",
   "version": "3.12.3"
  }
 },
 "nbformat": 4,
 "nbformat_minor": 5
}
